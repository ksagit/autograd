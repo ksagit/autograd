{
 "cells": [
  {
   "cell_type": "code",
   "execution_count": 1,
   "metadata": {},
   "outputs": [],
   "source": [
    "%load_ext memory_profiler\n",
    "\n",
    "from autograd.differential_operators import binomial_checkpoint\n",
    "import autograd.numpy as np\n",
    "from autograd import grad\n",
    "\n",
    "from time import time\n",
    "\n",
    "seq_len = 1000\n",
    "\n",
    "param_shape = (300,)\n",
    "state_shape = (300,)\n",
    "x_shape = (400,)\n",
    "\n",
    "inputs = [np.random.randn(*x_shape) for _ in range(seq_len)]\n",
    "initial_state = np.random.randn(*state_shape)\n",
    "parameters = np.ones(param_shape)"
   ]
  },
  {
   "cell_type": "code",
   "execution_count": 2,
   "metadata": {
    "collapsed": true
   },
   "outputs": [],
   "source": [
    "def simple_rnn(param, state, x):\n",
    "    assert(param.shape == param_shape)\n",
    "    assert(state.shape == state_shape)\n",
    "    assert(x.shape == x_shape)\n",
    "    \n",
    "    return param * (state / np.sum(x))\n",
    "\n",
    "loop, unwrapped_loop = binomial_checkpoint(simple_rnn, seq_len, 100)"
   ]
  },
  {
   "cell_type": "code",
   "execution_count": 4,
   "metadata": {},
   "outputs": [
    {
     "name": "stdout",
     "output_type": "stream",
     "text": [
      "peak memory: 99.20 MiB, increment: 0.03 MiB\n",
      "elapsed time:  3.0558979511260986 \n",
      "\n",
      "peak memory: 108.52 MiB, increment: 9.32 MiB\n",
      "elapsed time:  4.474081039428711 \n",
      "\n",
      "verify gradient correctness:  1.1059625669273633e-31\n"
     ]
    }
   ],
   "source": [
    "f = lambda parameters: loop(parameters, initial_state, inputs)\n",
    "g = lambda parameters: np.sum(sum(f(parameters)))\n",
    "\n",
    "start = time()\n",
    "%memit g1 = (grad(g)(parameters))\n",
    "end = time()\n",
    "\n",
    "print(\"elapsed time: \", end - start, \"\\n\")\n",
    "\n",
    "f = lambda parameters: unwrapped_loop(parameters, initial_state, inputs)\n",
    "g = lambda parameters: np.sum(sum(f(parameters)))\n",
    "\n",
    "start = time()\n",
    "%memit g2 = (grad(g)(parameters))\n",
    "end = time()\n",
    "\n",
    "print(\"elapsed time: \", end - start, \"\\n\")\n",
    "\n",
    "print(\"verify gradient correctness: \", np.sum((g1 - g2)**2))"
   ]
  },
  {
   "cell_type": "code",
   "execution_count": null,
   "metadata": {
    "collapsed": true
   },
   "outputs": [],
   "source": []
  }
 ],
 "metadata": {
  "kernelspec": {
   "display_name": "Python 3",
   "language": "python",
   "name": "python3"
  },
  "language_info": {
   "codemirror_mode": {
    "name": "ipython",
    "version": 3
   },
   "file_extension": ".py",
   "mimetype": "text/x-python",
   "name": "python",
   "nbconvert_exporter": "python",
   "pygments_lexer": "ipython3",
   "version": "3.6.1"
  }
 },
 "nbformat": 4,
 "nbformat_minor": 2
}
