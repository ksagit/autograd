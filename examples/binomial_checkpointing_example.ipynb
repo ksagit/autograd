{
 "cells": [
  {
   "cell_type": "code",
   "execution_count": 1,
   "metadata": {},
   "outputs": [],
   "source": [
    "import autograd\n",
    "import autograd.numpy as np\n",
    "from autograd import grad\n",
    "from autograd import checkpoint\n",
    "from autograd.extend import primitive\n",
    "\n",
    "import numpy as onp\n",
    "from time import time\n",
    "\n",
    "%load_ext memory_profiler\n",
    "\n",
    "from builtins import range, list as ag_list, tuple as ag_tuple\n",
    "import autograd.numpy as np\n",
    "import autograd.numpy.random as npr\n",
    "from autograd import grad\n",
    "from autograd.scipy.misc import logsumexp\n",
    "from os.path import dirname, join\n",
    "from autograd.misc.optimizers import adam"
   ]
  },
  {
   "cell_type": "code",
   "execution_count": 2,
   "metadata": {},
   "outputs": [],
   "source": [
    "def create_rnn_params(input_size, state_size, output_size,\n",
    "                      param_scale=0.01, rs=npr.RandomState(0)):\n",
    "    return {'change': rs.randn(input_size + state_size + 1, state_size) * param_scale,\n",
    "            'predict': rs.randn(state_size + 1, output_size) * param_scale,\n",
    "            'init hiddens': rs.randn(1, state_size) * param_scale,}\n",
    "\n",
    "def sigmoid(x):\n",
    "    return 0.5*(np.tanh(x) + 1.0)   # Output ranges from 0 to 1.\n",
    "\n",
    "def hiddens_to_output_probs(theta, hiddens):\n",
    "    output = concat_and_multiply(theta['predict'], hiddens)\n",
    "    return output - logsumexp(output, axis=1, keepdims=True)\n",
    "\n",
    "def concat_and_multiply(weights, *args):\n",
    "    cat_state = np.hstack(args + (np.ones((args[0].shape[0], 1)),))\n",
    "    return np.dot(cat_state, weights)\n",
    "\n",
    "input_size = 64\n",
    "state_size = 16\n",
    "output_size = 16\n",
    "\n",
    "batch_size = 64\n",
    "seq_len = 512\n",
    "num_checkpoints = 64\n",
    "\n",
    "theta = create_rnn_params(input_size, state_size, output_size)\n",
    "\n",
    "np.random.seed(0)\n",
    "inputs = [np.random.randn(batch_size, input_size) for _ in range(seq_len)]"
   ]
  },
  {
   "cell_type": "code",
   "execution_count": 3,
   "metadata": {
    "collapsed": true
   },
   "outputs": [],
   "source": [
    "from autograd.differential_operators import binomial_checkpoint\n",
    "from autograd.builtins import list as ag_list, tuple as ag_tuple\n",
    "\n",
    "def rnn(theta, init_ch, x):    \n",
    "    def update_rnn(x, hiddens):\n",
    "        return np.tanh(concat_and_multiply(theta['change'], x, hiddens))\n",
    "    init_cell = init_ch[0]\n",
    "    init_hidden = init_ch[1]\n",
    "    \n",
    "    cell = update_rnn(x, init_cell)\n",
    "    hidden = hiddens_to_output_probs(theta, cell)\n",
    "    \n",
    "    return ag_tuple((cell, hidden))"
   ]
  },
  {
   "cell_type": "code",
   "execution_count": 4,
   "metadata": {
    "collapsed": true
   },
   "outputs": [],
   "source": [
    "def rnn_predict(params, inputs):\n",
    "    num_sequences = inputs[0].shape[0]\n",
    "    \n",
    "    hidden_single = npr.RandomState(0).randn(1, state_size) * .01\n",
    "    hidden = np.repeat(hidden_single, num_sequences, axis=0)  \n",
    "    output = hiddens_to_output_probs(params, hidden)\n",
    "    \n",
    "    outputs = [output]\n",
    "\n",
    "    for input in inputs:  # Iterate over time steps.\n",
    "        hidden, output = rnn(params, (hidden, output), input)\n",
    "        outputs.append(output)\n",
    "    \n",
    "    return outputs\n",
    "\n",
    "f = lambda theta: rnn_predict(theta, inputs)"
   ]
  },
  {
   "cell_type": "code",
   "execution_count": 5,
   "metadata": {},
   "outputs": [
    {
     "name": "stdout",
     "output_type": "stream",
     "text": [
      "peak memory: 137.24 MiB, increment: 45.96 MiB\n",
      "elapsed time:  0.6979401111602783\n"
     ]
    }
   ],
   "source": [
    "f = lambda theta: rnn_predict(theta, inputs)\n",
    "g = lambda theta: np.sum(sum(f(theta)))\n",
    "\n",
    "x2 = g(theta)\n",
    "\n",
    "start = time()\n",
    "%memit g2 = grad(g)(theta)\n",
    "end = time()\n",
    "\n",
    "print(\"elapsed time: \", end - start)"
   ]
  },
  {
   "cell_type": "code",
   "execution_count": 6,
   "metadata": {},
   "outputs": [],
   "source": [
    "loop = binomial_checkpoint(rnn, seq_len, num_checkpoints)\n",
    "\n",
    "def rnn_predict(params, inputs):\n",
    "    num_sequences = inputs[0].shape[0]\n",
    "    \n",
    "    hidden_single = npr.RandomState(0).randn(1, state_size) * .01\n",
    "    hidden = np.repeat(hidden_single, num_sequences, axis=0)\n",
    "    output = hiddens_to_output_probs(params, hidden)\n",
    "        \n",
    "    outputs = loop(params, ag_tuple((hidden, output)), inputs)\n",
    "    return outputs"
   ]
  },
  {
   "cell_type": "code",
   "execution_count": 7,
   "metadata": {},
   "outputs": [
    {
     "name": "stdout",
     "output_type": "stream",
     "text": [
      "peak memory: 142.50 MiB, increment: 5.51 MiB\n",
      "elapsed time:  3.488611936569214\n"
     ]
    }
   ],
   "source": [
    "f = lambda theta: rnn_predict(theta, inputs)\n",
    "g = lambda theta: np.sum(sum(h for c, h in f(theta)))\n",
    "\n",
    "x1 = g(theta)\n",
    "\n",
    "start = time()\n",
    "%memit g1 = grad(g)(theta)\n",
    "end = time()\n",
    "\n",
    "print(\"elapsed time: \", end - start)"
   ]
  },
  {
   "cell_type": "code",
   "execution_count": 8,
   "metadata": {},
   "outputs": [
    {
     "name": "stdout",
     "output_type": "stream",
     "text": [
      "0.0\n",
      "change 5.968321299952532e-28\n",
      "predict 5.811825116546847e-25\n",
      "init hiddens 0.0\n"
     ]
    }
   ],
   "source": [
    "# check correctness of gradients\n",
    "\n",
    "print(x1 - x2)\n",
    "\n",
    "for key in g1:\n",
    "    print(key, np.sum((g1[key] - g2[key])**2))"
   ]
  }
 ],
 "metadata": {
  "kernelspec": {
   "display_name": "Python 3",
   "language": "python",
   "name": "python3"
  },
  "language_info": {
   "codemirror_mode": {
    "name": "ipython",
    "version": 3
   },
   "file_extension": ".py",
   "mimetype": "text/x-python",
   "name": "python",
   "nbconvert_exporter": "python",
   "pygments_lexer": "ipython3",
   "version": "3.6.1"
  }
 },
 "nbformat": 4,
 "nbformat_minor": 2
}
