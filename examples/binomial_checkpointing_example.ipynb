{
 "cells": [
  {
   "cell_type": "code",
   "execution_count": 1,
   "metadata": {},
   "outputs": [],
   "source": [
    "import autograd\n",
    "import autograd.numpy as np\n",
    "from autograd import grad\n",
    "from autograd import checkpoint\n",
    "from autograd.extend import primitive\n",
    "\n",
    "import numpy as onp\n",
    "\n",
    "%load_ext memory_profiler\n",
    "\n",
    "from builtins import range, list as ag_list, tuple as ag_tuple\n",
    "import autograd.numpy as np\n",
    "import autograd.numpy.random as npr\n",
    "from autograd import grad\n",
    "from autograd.scipy.misc import logsumexp\n",
    "from os.path import dirname, join\n",
    "from autograd.misc.optimizers import adam\n",
    "\n",
    "\n",
    "### Helper functions #################\n",
    "\n",
    "def sigmoid(x):\n",
    "    return 0.5*(np.tanh(x) + 1.0)   # Output ranges from 0 to 1."
   ]
  },
  {
   "cell_type": "code",
   "execution_count": 2,
   "metadata": {},
   "outputs": [],
   "source": [
    "def create_rnn_params(input_size, state_size, output_size,\n",
    "                      param_scale=0.01, rs=npr.RandomState(0)):\n",
    "    return {'change': rs.randn(input_size + state_size + 1, state_size) * param_scale,\n",
    "            'predict': rs.randn(state_size + 1, output_size) * param_scale,\n",
    "            'init hiddens': rs.randn(1, state_size) * param_scale,}\n",
    "\n",
    "def hiddens_to_output_probs(theta, hiddens):\n",
    "    output = concat_and_multiply(theta['predict'], hiddens)\n",
    "    return output - logsumexp(output, axis=1, keepdims=True)\n",
    "\n",
    "def concat_and_multiply(weights, *args):\n",
    "    cat_state = np.hstack(args + (np.ones((args[0].shape[0], 1)),))\n",
    "    return np.dot(cat_state, weights)\n",
    "\n",
    "input_size = 10\n",
    "state_size = 15\n",
    "output_size = 15\n",
    "\n",
    "batch_size = 1\n",
    "seq_len = 400\n",
    "num_checkpoints = 20\n",
    "\n",
    "theta = create_rnn_params(input_size, state_size, output_size)\n",
    "\n",
    "np.random.seed(0)\n",
    "inputs = np.random.randn(seq_len, batch_size, input_size)\n",
    "hidden_single = npr.RandomState(0).randn(1, state_size) * .01\n",
    "hidden = np.repeat(hidden_single, batch_size, axis=0)\n",
    "output = hiddens_to_output_probs(theta, hidden)\n",
    "\n",
    "init_ch = ag_list([hidden, output])"
   ]
  },
  {
   "cell_type": "code",
   "execution_count": 3,
   "metadata": {
    "collapsed": true
   },
   "outputs": [],
   "source": [
    "# My Code\n",
    "from autograd.differential_operators import binomial_checkpoint\n",
    "from autograd.builtins import list as ag_list, tuple as ag_tuple\n",
    "\n",
    "def rnn(theta, init_ch, x):\n",
    "    def update_rnn(x, hiddens):\n",
    "        return np.tanh(concat_and_multiply(theta['change'], x, hiddens))\n",
    "    init_cell = init_ch[0]\n",
    "    init_hidden = init_ch[1]\n",
    "    \n",
    "    cell = update_rnn(x, init_cell)\n",
    "    hidden = hiddens_to_output_probs(theta, cell)\n",
    "    \n",
    "    return ag_tuple((cell, hidden))"
   ]
  },
  {
   "cell_type": "code",
   "execution_count": 12,
   "metadata": {
    "collapsed": true
   },
   "outputs": [],
   "source": [
    "loop, unwrapped_loop = binomial_checkpoint(rnn, seq_len, num_checkpoints)\n",
    "\n",
    "def rnn_predict(params, inputs):\n",
    "    num_sequences = inputs.shape[1]\n",
    "    \n",
    "    hidden_single = npr.RandomState(0).randn(1, state_size) * .01\n",
    "    hidden = np.repeat(hidden_single, num_sequences, axis=0)\n",
    "    output = hiddens_to_output_probs(params, hidden)\n",
    "        \n",
    "    outputs = loop(params, ag_tuple((hidden, output)), inputs)\n",
    "    return outputs"
   ]
  },
  {
   "cell_type": "code",
   "execution_count": 13,
   "metadata": {},
   "outputs": [
    {
     "name": "stdout",
     "output_type": "stream",
     "text": [
      "peak memory: 80.45 MiB, increment: 0.13 MiB\n",
      "elapsed time:  3.2334201335906982\n"
     ]
    }
   ],
   "source": [
    "from time import time\n",
    "\n",
    "loop, unwrapped_loop = binomial_checkpoint(rnn, seq_len, num_checkpoints)\n",
    "\n",
    "hidden_single = npr.RandomState(0).randn(1, state_size) * .01    \n",
    "hidden = np.repeat(hidden_single, batch_size, axis=0)\n",
    "\n",
    "f = lambda theta: rnn_predict(theta, inputs)\n",
    "g = lambda theta: np.sum(sum(h for c, h in f(theta)))\n",
    "\n",
    "x1 = g(theta)\n",
    "\n",
    "start = time()\n",
    "%memit g1 = grad(g)(theta)\n",
    "end = time()\n",
    "\n",
    "print(\"elapsed time: \", end - start)"
   ]
  },
  {
   "cell_type": "code",
   "execution_count": 10,
   "metadata": {
    "collapsed": true
   },
   "outputs": [],
   "source": [
    "def rnn_predict(params, inputs):\n",
    "    def update_rnn(input, hiddens):\n",
    "        return np.tanh(concat_and_multiply(params['change'], input, hiddens))\n",
    "    \n",
    "    num_sequences = inputs.shape[1]\n",
    "    \n",
    "    hidden_single = npr.RandomState(0).randn(1, state_size) * .01\n",
    "    hidden = np.repeat(hidden_single, num_sequences, axis=0)  \n",
    "    output = hiddens_to_output_probs(params, hidden)\n",
    "    \n",
    "    outputs = [output]\n",
    "\n",
    "    for input in inputs:  # Iterate over time steps.\n",
    "        hidden, output = rnn(params, (hidden, output), input)\n",
    "        outputs.append(output)\n",
    "    \n",
    "    return outputs"
   ]
  },
  {
   "cell_type": "code",
   "execution_count": 11,
   "metadata": {},
   "outputs": [
    {
     "name": "stdout",
     "output_type": "stream",
     "text": [
      "peak memory: 90.55 MiB, increment: 10.88 MiB\n",
      "elapsed time:  1.058408260345459\n"
     ]
    }
   ],
   "source": [
    "f = lambda theta: rnn_predict(theta, inputs)\n",
    "g = lambda theta: np.sum(f(theta))\n",
    "\n",
    "x2 = g(theta)\n",
    "\n",
    "start = time()\n",
    "%memit g2 = grad(g)(theta)\n",
    "end = time()\n",
    "\n",
    "print(\"elapsed time: \", end - start)"
   ]
  },
  {
   "cell_type": "code",
   "execution_count": 8,
   "metadata": {},
   "outputs": [
    {
     "name": "stdout",
     "output_type": "stream",
     "text": [
      "-3.637978807091713e-12\n",
      "change 1.2061753316069602e-31\n",
      "predict 5.360460534159286e-29\n",
      "init hiddens 0.0\n"
     ]
    }
   ],
   "source": [
    "# check correctness of gradients\n",
    "\n",
    "print(x1 - x2)\n",
    "\n",
    "for key in g1:\n",
    "    print(key, np.sum((g1[key] - g2[key])**2))"
   ]
  }
 ],
 "metadata": {
  "kernelspec": {
   "display_name": "Python 3",
   "language": "python",
   "name": "python3"
  },
  "language_info": {
   "codemirror_mode": {
    "name": "ipython",
    "version": 3
   },
   "file_extension": ".py",
   "mimetype": "text/x-python",
   "name": "python",
   "nbconvert_exporter": "python",
   "pygments_lexer": "ipython3",
   "version": "3.6.1"
  }
 },
 "nbformat": 4,
 "nbformat_minor": 2
}
